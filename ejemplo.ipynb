{
 "cells": [
  {
   "cell_type": "code",
   "execution_count": 4,
   "outputs": [
    {
     "ename": "KeyError",
     "evalue": "\"None of ['iso3c'] are in the columns\"",
     "output_type": "error",
     "traceback": [
      "\u001B[1;31m---------------------------------------------------------------------------\u001B[0m",
      "\u001B[1;31mKeyError\u001B[0m                                  Traceback (most recent call last)",
      "\u001B[1;32m~\\AppData\\Local\\Temp\\ipykernel_26584\\4186733464.py\u001B[0m in \u001B[0;36m?\u001B[1;34m()\u001B[0m\n\u001B[0;32m      2\u001B[0m \u001B[1;32mfrom\u001B[0m \u001B[0mtrade_network\u001B[0m\u001B[1;33m.\u001B[0m\u001B[0mtrade_network\u001B[0m \u001B[1;32mimport\u001B[0m \u001B[0mTradeNetwork\u001B[0m\u001B[1;33m\u001B[0m\u001B[1;33m\u001B[0m\u001B[0m\n\u001B[0;32m      3\u001B[0m \u001B[1;32mfrom\u001B[0m \u001B[0mtrade_network\u001B[0m\u001B[1;33m.\u001B[0m\u001B[0mdiversity_metrics\u001B[0m \u001B[1;32mimport\u001B[0m \u001B[0mcalculate_diversity_index\u001B[0m\u001B[1;33m\u001B[0m\u001B[1;33m\u001B[0m\u001B[0m\n\u001B[0;32m      4\u001B[0m \u001B[1;33m\u001B[0m\u001B[0m\n\u001B[0;32m      5\u001B[0m \u001B[1;31m# Definir los esquemas de clasificación\u001B[0m\u001B[1;33m\u001B[0m\u001B[1;33m\u001B[0m\u001B[0m\n\u001B[1;32m----> 6\u001B[1;33m region_scheme = ClassificationScheme(\n\u001B[0m\u001B[0;32m      7\u001B[0m     \u001B[0mname\u001B[0m\u001B[1;33m=\u001B[0m\u001B[1;34m\"by_region\"\u001B[0m\u001B[1;33m,\u001B[0m\u001B[1;33m\u001B[0m\u001B[1;33m\u001B[0m\u001B[0m\n\u001B[0;32m      8\u001B[0m     \u001B[0mfile_path\u001B[0m\u001B[1;33m=\u001B[0m\u001B[1;34m\"data/raw_data/world_bank_data/countries.csv\"\u001B[0m\u001B[1;33m,\u001B[0m\u001B[1;33m\u001B[0m\u001B[1;33m\u001B[0m\u001B[0m\n\u001B[0;32m      9\u001B[0m     \u001B[0mkey_column\u001B[0m\u001B[1;33m=\u001B[0m\u001B[1;34m\"iso3c\"\u001B[0m\u001B[1;33m,\u001B[0m\u001B[1;33m\u001B[0m\u001B[1;33m\u001B[0m\u001B[0m\n",
      "\u001B[1;32m~\\Documents\\Proyectos\\Flujos_Diversidad_Comercio_Internacional\\trade_network\\utils.py\u001B[0m in \u001B[0;36m?\u001B[1;34m(self, name, file_path, key_column, value_column)\u001B[0m\n\u001B[0;32m     18\u001B[0m         \u001B[0mself\u001B[0m\u001B[1;33m.\u001B[0m\u001B[0mname\u001B[0m \u001B[1;33m=\u001B[0m \u001B[0mname\u001B[0m\u001B[1;33m\u001B[0m\u001B[1;33m\u001B[0m\u001B[0m\n\u001B[0;32m     19\u001B[0m         \u001B[0mself\u001B[0m\u001B[1;33m.\u001B[0m\u001B[0mfile_path\u001B[0m \u001B[1;33m=\u001B[0m \u001B[0mfile_path\u001B[0m\u001B[1;33m\u001B[0m\u001B[1;33m\u001B[0m\u001B[0m\n\u001B[0;32m     20\u001B[0m         \u001B[0mself\u001B[0m\u001B[1;33m.\u001B[0m\u001B[0mkey_column\u001B[0m \u001B[1;33m=\u001B[0m \u001B[0mkey_column\u001B[0m\u001B[1;33m\u001B[0m\u001B[1;33m\u001B[0m\u001B[0m\n\u001B[0;32m     21\u001B[0m         \u001B[0mself\u001B[0m\u001B[1;33m.\u001B[0m\u001B[0mvalue_column\u001B[0m \u001B[1;33m=\u001B[0m \u001B[0mvalue_column\u001B[0m\u001B[1;33m\u001B[0m\u001B[1;33m\u001B[0m\u001B[0m\n\u001B[1;32m---> 22\u001B[1;33m         \u001B[0mself\u001B[0m\u001B[1;33m.\u001B[0m\u001B[0mclassification_data\u001B[0m \u001B[1;33m=\u001B[0m \u001B[0mself\u001B[0m\u001B[1;33m.\u001B[0m\u001B[0m_load_classification_data\u001B[0m\u001B[1;33m(\u001B[0m\u001B[1;33m)\u001B[0m\u001B[1;33m\u001B[0m\u001B[1;33m\u001B[0m\u001B[0m\n\u001B[0m",
      "\u001B[1;32m~\\Documents\\Proyectos\\Flujos_Diversidad_Comercio_Internacional\\trade_network\\utils.py\u001B[0m in \u001B[0;36m?\u001B[1;34m(self)\u001B[0m\n\u001B[0;32m     29\u001B[0m             \u001B[0mdict\u001B[0m\u001B[1;33m[\u001B[0m\u001B[0mstr\u001B[0m\u001B[1;33m,\u001B[0m \u001B[0mstr\u001B[0m\u001B[1;33m]\u001B[0m\u001B[1;33m:\u001B[0m \u001B[0mA\u001B[0m \u001B[0mdictionary\u001B[0m \u001B[0mmapping\u001B[0m \u001B[0mcountry\u001B[0m \u001B[0mcodes\u001B[0m \u001B[0mto\u001B[0m \u001B[0mclassification\u001B[0m \u001B[0mvalues\u001B[0m\u001B[1;33m.\u001B[0m\u001B[1;33m\u001B[0m\u001B[1;33m\u001B[0m\u001B[0m\n\u001B[0;32m     30\u001B[0m         \"\"\"\n\u001B[0;32m     31\u001B[0m         \u001B[1;32mif\u001B[0m \u001B[0mself\u001B[0m\u001B[1;33m.\u001B[0m\u001B[0mfile_path\u001B[0m \u001B[1;32mand\u001B[0m \u001B[0mself\u001B[0m\u001B[1;33m.\u001B[0m\u001B[0mkey_column\u001B[0m \u001B[1;32mand\u001B[0m \u001B[0mself\u001B[0m\u001B[1;33m.\u001B[0m\u001B[0mvalue_column\u001B[0m\u001B[1;33m:\u001B[0m\u001B[1;33m\u001B[0m\u001B[1;33m\u001B[0m\u001B[0m\n\u001B[0;32m     32\u001B[0m             \u001B[0mclassification_df\u001B[0m \u001B[1;33m=\u001B[0m \u001B[0mpd\u001B[0m\u001B[1;33m.\u001B[0m\u001B[0mread_csv\u001B[0m\u001B[1;33m(\u001B[0m\u001B[0mself\u001B[0m\u001B[1;33m.\u001B[0m\u001B[0mfile_path\u001B[0m\u001B[1;33m)\u001B[0m\u001B[1;33m\u001B[0m\u001B[1;33m\u001B[0m\u001B[0m\n\u001B[1;32m---> 33\u001B[1;33m             \u001B[1;32mreturn\u001B[0m \u001B[0mclassification_df\u001B[0m\u001B[1;33m.\u001B[0m\u001B[0mset_index\u001B[0m\u001B[1;33m(\u001B[0m\u001B[0mself\u001B[0m\u001B[1;33m.\u001B[0m\u001B[0mkey_column\u001B[0m\u001B[1;33m)\u001B[0m\u001B[1;33m[\u001B[0m\u001B[0mself\u001B[0m\u001B[1;33m.\u001B[0m\u001B[0mvalue_column\u001B[0m\u001B[1;33m]\u001B[0m\u001B[1;33m.\u001B[0m\u001B[0mto_dict\u001B[0m\u001B[1;33m(\u001B[0m\u001B[1;33m)\u001B[0m\u001B[1;33m\u001B[0m\u001B[1;33m\u001B[0m\u001B[0m\n\u001B[0m\u001B[0;32m     34\u001B[0m         \u001B[1;32melse\u001B[0m\u001B[1;33m:\u001B[0m\u001B[1;33m\u001B[0m\u001B[1;33m\u001B[0m\u001B[0m\n\u001B[0;32m     35\u001B[0m             \u001B[1;32mreturn\u001B[0m \u001B[1;33m{\u001B[0m\u001B[1;33m}\u001B[0m  \u001B[1;31m# For NoClassification, return an empty dictionary\u001B[0m\u001B[1;33m\u001B[0m\u001B[1;33m\u001B[0m\u001B[0m\n",
      "\u001B[1;32m~\\.conda\\envs\\diversidad_economica\\Lib\\site-packages\\pandas\\core\\frame.py\u001B[0m in \u001B[0;36m?\u001B[1;34m(self, keys, drop, append, inplace, verify_integrity)\u001B[0m\n\u001B[0;32m   6118\u001B[0m                     \u001B[1;32mif\u001B[0m \u001B[1;32mnot\u001B[0m \u001B[0mfound\u001B[0m\u001B[1;33m:\u001B[0m\u001B[1;33m\u001B[0m\u001B[1;33m\u001B[0m\u001B[0m\n\u001B[0;32m   6119\u001B[0m                         \u001B[0mmissing\u001B[0m\u001B[1;33m.\u001B[0m\u001B[0mappend\u001B[0m\u001B[1;33m(\u001B[0m\u001B[0mcol\u001B[0m\u001B[1;33m)\u001B[0m\u001B[1;33m\u001B[0m\u001B[1;33m\u001B[0m\u001B[0m\n\u001B[0;32m   6120\u001B[0m \u001B[1;33m\u001B[0m\u001B[0m\n\u001B[0;32m   6121\u001B[0m         \u001B[1;32mif\u001B[0m \u001B[0mmissing\u001B[0m\u001B[1;33m:\u001B[0m\u001B[1;33m\u001B[0m\u001B[1;33m\u001B[0m\u001B[0m\n\u001B[1;32m-> 6122\u001B[1;33m             \u001B[1;32mraise\u001B[0m \u001B[0mKeyError\u001B[0m\u001B[1;33m(\u001B[0m\u001B[1;34mf\"None of {missing} are in the columns\"\u001B[0m\u001B[1;33m)\u001B[0m\u001B[1;33m\u001B[0m\u001B[1;33m\u001B[0m\u001B[0m\n\u001B[0m\u001B[0;32m   6123\u001B[0m \u001B[1;33m\u001B[0m\u001B[0m\n\u001B[0;32m   6124\u001B[0m         \u001B[1;32mif\u001B[0m \u001B[0minplace\u001B[0m\u001B[1;33m:\u001B[0m\u001B[1;33m\u001B[0m\u001B[1;33m\u001B[0m\u001B[0m\n\u001B[0;32m   6125\u001B[0m             \u001B[0mframe\u001B[0m \u001B[1;33m=\u001B[0m \u001B[0mself\u001B[0m\u001B[1;33m\u001B[0m\u001B[1;33m\u001B[0m\u001B[0m\n",
      "\u001B[1;31mKeyError\u001B[0m: \"None of ['iso3c'] are in the columns\""
     ]
    }
   ],
   "source": [
    "from trade_network.utils import ClassificationScheme\n",
    "from trade_network.trade_network import TradeNetwork\n",
    "from trade_network.diversity_metrics import calculate_diversity_index\n",
    "\n",
    "# Definir los esquemas de clasificación\n",
    "region_scheme = ClassificationScheme(\n",
    "    name=\"by_region\",\n",
    "    file_path=\"data/raw_data/world_bank_data/countries.csv\",\n",
    "    key_column=\"iso3c\",\n",
    "    value_column=\"region\"\n",
    ")\n",
    "\n",
    "\n",
    "    "
   ],
   "metadata": {
    "collapsed": false,
    "ExecuteTime": {
     "end_time": "2024-08-21T02:27:02.874932500Z",
     "start_time": "2024-08-21T02:27:02.835684300Z"
    }
   },
   "id": "1470b305af0fbcc6"
  },
  {
   "cell_type": "code",
   "execution_count": 5,
   "outputs": [
    {
     "ename": "NameError",
     "evalue": "name 'region_scheme' is not defined",
     "output_type": "error",
     "traceback": [
      "\u001B[1;31m---------------------------------------------------------------------------\u001B[0m",
      "\u001B[1;31mNameError\u001B[0m                                 Traceback (most recent call last)",
      "Cell \u001B[1;32mIn[5], line 4\u001B[0m\n\u001B[0;32m      1\u001B[0m \u001B[38;5;66;03m# Crear la red de comercio para un año específico\u001B[39;00m\n\u001B[0;32m      2\u001B[0m trade_network \u001B[38;5;241m=\u001B[39m TradeNetwork(\n\u001B[0;32m      3\u001B[0m     year\u001B[38;5;241m=\u001B[39m\u001B[38;5;241m2020\u001B[39m,\n\u001B[1;32m----> 4\u001B[0m     classification_schemes\u001B[38;5;241m=\u001B[39m[\u001B[43mregion_scheme\u001B[49m]\n\u001B[0;32m      5\u001B[0m )\n",
      "\u001B[1;31mNameError\u001B[0m: name 'region_scheme' is not defined"
     ]
    }
   ],
   "source": [
    "# Crear la red de comercio para un año específico\n",
    "trade_network = TradeNetwork(\n",
    "    year=2020,\n",
    "    classification_schemes=[region_scheme]\n",
    ")\n"
   ],
   "metadata": {
    "collapsed": false,
    "ExecuteTime": {
     "end_time": "2024-08-21T02:27:09.368828500Z",
     "start_time": "2024-08-21T02:27:09.283270200Z"
    }
   },
   "id": "48d0fdabc92a4098"
  },
  {
   "cell_type": "code",
   "execution_count": null,
   "outputs": [],
   "source": [
    "# aquí faltaria un filter by country\n",
    "\n",
    "# iterador por pais\n",
    "country = [country for country in trade_network.classified_countries[\"by_region\"].keys()]\n",
    "data = TradeNetwork.tra\n",
    "\n",
    "export_diversity = calculate_diversity_index(\n",
    "    scheme_name=\"by_region\",\n",
    "    importers=trade_network.classified_countries[\"by_region\"].keys(),\n",
    "    exporters=[country]\n",
    ")\n",
    "print(f\"Export product diversity for {country}: {export_diversity:.2f}\")"
   ],
   "metadata": {
    "collapsed": false
   },
   "id": "30ba97b97b2195a"
  }
 ],
 "metadata": {
  "kernelspec": {
   "display_name": "Python 3",
   "language": "python",
   "name": "python3"
  },
  "language_info": {
   "codemirror_mode": {
    "name": "ipython",
    "version": 2
   },
   "file_extension": ".py",
   "mimetype": "text/x-python",
   "name": "python",
   "nbconvert_exporter": "python",
   "pygments_lexer": "ipython2",
   "version": "2.7.6"
  }
 },
 "nbformat": 4,
 "nbformat_minor": 5
}
